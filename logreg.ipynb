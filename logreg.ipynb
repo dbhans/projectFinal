{
 "cells": [
  {
   "cell_type": "code",
   "execution_count": 39,
   "metadata": {},
   "outputs": [],
   "source": [
    "import pandas as pd \n",
    "import numpy as np\n",
    "import sklearn\n",
    "from sklearn import metrics \n",
    "from sklearn.model_selection import train_test_split\n",
    "from sklearn.linear_model import LogisticRegression\n",
    "from sklearn.metrics import classification_report\n",
    "from sklearn.metrics import confusion_matrix\n",
    "from sklearn.metrics import accuracy_score\n",
    "import statsmodels.api as sm\n",
    "\n",
    "import mlflow\n",
    "import mlflow.sklearn\n",
    "from mlflow.pyfunc import PythonModel\n",
    "from mlflow.models import infer_signature\n",
    "import mlflow.statsmodels\n",
    "from mlflow import MlflowClient\n"
   ]
  },
  {
   "cell_type": "code",
   "execution_count": 40,
   "metadata": {},
   "outputs": [],
   "source": [
    "prep = pd.read_parquet(\"../donnees/preproces.parquet\")"
   ]
  },
  {
   "cell_type": "code",
   "execution_count": 41,
   "metadata": {},
   "outputs": [],
   "source": [
    "y = prep['is_claim']\n",
    "x = prep.drop('is_claim',axis=1)"
   ]
  },
  {
   "cell_type": "code",
   "execution_count": 42,
   "metadata": {},
   "outputs": [],
   "source": [
    "X_train, X_test, y_train, y_test = sklearn.model_selection.train_test_split(x, y, test_size = 0.2, random_state = 5)\n"
   ]
  },
  {
   "cell_type": "code",
   "execution_count": 43,
   "metadata": {},
   "outputs": [],
   "source": [
    "from sklearn.preprocessing import StandardScaler\n",
    "scaler = StandardScaler()\n",
    "X_train=scaler.fit_transform(X_train)\n",
    "X_test=scaler.transform(X_test)"
   ]
  },
  {
   "cell_type": "code",
   "execution_count": 44,
   "metadata": {},
   "outputs": [],
   "source": [
    "# train a model\n",
    "model1 = LogisticRegression(max_iter=1000,random_state=0).fit(X_train, y_train)\n"
   ]
  },
  {
   "cell_type": "code",
   "execution_count": 45,
   "metadata": {},
   "outputs": [
    {
     "data": {
      "text/html": [
       "<style>#sk-container-id-4 {color: black;}#sk-container-id-4 pre{padding: 0;}#sk-container-id-4 div.sk-toggleable {background-color: white;}#sk-container-id-4 label.sk-toggleable__label {cursor: pointer;display: block;width: 100%;margin-bottom: 0;padding: 0.3em;box-sizing: border-box;text-align: center;}#sk-container-id-4 label.sk-toggleable__label-arrow:before {content: \"▸\";float: left;margin-right: 0.25em;color: #696969;}#sk-container-id-4 label.sk-toggleable__label-arrow:hover:before {color: black;}#sk-container-id-4 div.sk-estimator:hover label.sk-toggleable__label-arrow:before {color: black;}#sk-container-id-4 div.sk-toggleable__content {max-height: 0;max-width: 0;overflow: hidden;text-align: left;background-color: #f0f8ff;}#sk-container-id-4 div.sk-toggleable__content pre {margin: 0.2em;color: black;border-radius: 0.25em;background-color: #f0f8ff;}#sk-container-id-4 input.sk-toggleable__control:checked~div.sk-toggleable__content {max-height: 200px;max-width: 100%;overflow: auto;}#sk-container-id-4 input.sk-toggleable__control:checked~label.sk-toggleable__label-arrow:before {content: \"▾\";}#sk-container-id-4 div.sk-estimator input.sk-toggleable__control:checked~label.sk-toggleable__label {background-color: #d4ebff;}#sk-container-id-4 div.sk-label input.sk-toggleable__control:checked~label.sk-toggleable__label {background-color: #d4ebff;}#sk-container-id-4 input.sk-hidden--visually {border: 0;clip: rect(1px 1px 1px 1px);clip: rect(1px, 1px, 1px, 1px);height: 1px;margin: -1px;overflow: hidden;padding: 0;position: absolute;width: 1px;}#sk-container-id-4 div.sk-estimator {font-family: monospace;background-color: #f0f8ff;border: 1px dotted black;border-radius: 0.25em;box-sizing: border-box;margin-bottom: 0.5em;}#sk-container-id-4 div.sk-estimator:hover {background-color: #d4ebff;}#sk-container-id-4 div.sk-parallel-item::after {content: \"\";width: 100%;border-bottom: 1px solid gray;flex-grow: 1;}#sk-container-id-4 div.sk-label:hover label.sk-toggleable__label {background-color: #d4ebff;}#sk-container-id-4 div.sk-serial::before {content: \"\";position: absolute;border-left: 1px solid gray;box-sizing: border-box;top: 0;bottom: 0;left: 50%;z-index: 0;}#sk-container-id-4 div.sk-serial {display: flex;flex-direction: column;align-items: center;background-color: white;padding-right: 0.2em;padding-left: 0.2em;position: relative;}#sk-container-id-4 div.sk-item {position: relative;z-index: 1;}#sk-container-id-4 div.sk-parallel {display: flex;align-items: stretch;justify-content: center;background-color: white;position: relative;}#sk-container-id-4 div.sk-item::before, #sk-container-id-4 div.sk-parallel-item::before {content: \"\";position: absolute;border-left: 1px solid gray;box-sizing: border-box;top: 0;bottom: 0;left: 50%;z-index: -1;}#sk-container-id-4 div.sk-parallel-item {display: flex;flex-direction: column;z-index: 1;position: relative;background-color: white;}#sk-container-id-4 div.sk-parallel-item:first-child::after {align-self: flex-end;width: 50%;}#sk-container-id-4 div.sk-parallel-item:last-child::after {align-self: flex-start;width: 50%;}#sk-container-id-4 div.sk-parallel-item:only-child::after {width: 0;}#sk-container-id-4 div.sk-dashed-wrapped {border: 1px dashed gray;margin: 0 0.4em 0.5em 0.4em;box-sizing: border-box;padding-bottom: 0.4em;background-color: white;}#sk-container-id-4 div.sk-label label {font-family: monospace;font-weight: bold;display: inline-block;line-height: 1.2em;}#sk-container-id-4 div.sk-label-container {text-align: center;}#sk-container-id-4 div.sk-container {/* jupyter's `normalize.less` sets `[hidden] { display: none; }` but bootstrap.min.css set `[hidden] { display: none !important; }` so we also need the `!important` here to be able to override the default hidden behavior on the sphinx rendered scikit-learn.org. See: https://github.com/scikit-learn/scikit-learn/issues/21755 */display: inline-block !important;position: relative;}#sk-container-id-4 div.sk-text-repr-fallback {display: none;}</style><div id=\"sk-container-id-4\" class=\"sk-top-container\"><div class=\"sk-text-repr-fallback\"><pre>LogisticRegression(max_iter=1000, random_state=0)</pre><b>In a Jupyter environment, please rerun this cell to show the HTML representation or trust the notebook. <br />On GitHub, the HTML representation is unable to render, please try loading this page with nbviewer.org.</b></div><div class=\"sk-container\" hidden><div class=\"sk-item\"><div class=\"sk-estimator sk-toggleable\"><input class=\"sk-toggleable__control sk-hidden--visually\" id=\"sk-estimator-id-4\" type=\"checkbox\" checked><label for=\"sk-estimator-id-4\" class=\"sk-toggleable__label sk-toggleable__label-arrow\">LogisticRegression</label><div class=\"sk-toggleable__content\"><pre>LogisticRegression(max_iter=1000, random_state=0)</pre></div></div></div></div></div>"
      ],
      "text/plain": [
       "LogisticRegression(max_iter=1000, random_state=0)"
      ]
     },
     "execution_count": 45,
     "metadata": {},
     "output_type": "execute_result"
    }
   ],
   "source": [
    "model1.fit(X_train, y_train)"
   ]
  },
  {
   "cell_type": "code",
   "execution_count": 46,
   "metadata": {},
   "outputs": [
    {
     "data": {
      "text/html": [
       "<div>\n",
       "<style scoped>\n",
       "    .dataframe tbody tr th:only-of-type {\n",
       "        vertical-align: middle;\n",
       "    }\n",
       "\n",
       "    .dataframe tbody tr th {\n",
       "        vertical-align: top;\n",
       "    }\n",
       "\n",
       "    .dataframe thead th {\n",
       "        text-align: right;\n",
       "    }\n",
       "</style>\n",
       "<table border=\"1\" class=\"dataframe\">\n",
       "  <thead>\n",
       "    <tr style=\"text-align: right;\">\n",
       "      <th></th>\n",
       "      <th>predicted_approved</th>\n",
       "      <th>predicted_not_approved</th>\n",
       "    </tr>\n",
       "  </thead>\n",
       "  <tbody>\n",
       "    <tr>\n",
       "      <th>approved</th>\n",
       "      <td>10964</td>\n",
       "      <td>0</td>\n",
       "    </tr>\n",
       "    <tr>\n",
       "      <th>not_approved</th>\n",
       "      <td>755</td>\n",
       "      <td>0</td>\n",
       "    </tr>\n",
       "  </tbody>\n",
       "</table>\n",
       "</div>"
      ],
      "text/plain": [
       "              predicted_approved  predicted_not_approved\n",
       "approved                   10964                       0\n",
       "not_approved                 755                       0"
      ]
     },
     "execution_count": 46,
     "metadata": {},
     "output_type": "execute_result"
    }
   ],
   "source": [
    "preds = model1.predict(X_test)\n",
    "confmtrx = np.array(confusion_matrix(y_test, preds))\n",
    "confusion = pd.DataFrame(confmtrx, index=['approved', 'not_approved'],\n",
    "columns=['predicted_approved', 'predicted_not_approved'])\n",
    "confusion"
   ]
  },
  {
   "cell_type": "code",
   "execution_count": 47,
   "metadata": {},
   "outputs": [],
   "source": [
    "# Evaluate accuracy and log the metric using MLflow\n",
    "accuracy = accuracy_score(y_test, preds)"
   ]
  },
  {
   "cell_type": "code",
   "execution_count": 48,
   "metadata": {},
   "outputs": [
    {
     "name": "stderr",
     "output_type": "stream",
     "text": [
      "2024/01/27 23:10:08 INFO mlflow.utils.autologging_utils: Created MLflow autologging run with ID 'fb0726ca3f3d4657b3179cc4fd94ea07', which will track hyperparameters, performance metrics, model artifacts, and lineage information for the current statsmodels workflow\n"
     ]
    },
    {
     "name": "stdout",
     "output_type": "stream",
     "text": [
      "Warning: Maximum number of iterations has been exceeded.\n",
      "         Current function value: 0.232738\n",
      "         Iterations: 35\n"
     ]
    },
    {
     "name": "stderr",
     "output_type": "stream",
     "text": [
      "/home/dbd/anaconda3/envs/a61/lib/python3.10/site-packages/statsmodels/base/model.py:607: ConvergenceWarning: Maximum Likelihood optimization failed to converge. Check mle_retvals\n",
      "  warnings.warn(\"Maximum Likelihood optimization failed to \"\n"
     ]
    },
    {
     "name": "stdout",
     "output_type": "stream",
     "text": [
      "                           Logit Regression Results                           \n",
      "==============================================================================\n",
      "Dep. Variable:               is_claim   No. Observations:                46873\n",
      "Model:                          Logit   Df Residuals:                    46856\n",
      "Method:                           MLE   Df Model:                           16\n",
      "Date:                Sat, 27 Jan 2024   Pseudo R-squ.:                 0.01981\n",
      "Time:                        23:10:10   Log-Likelihood:                -10909.\n",
      "converged:                      False   LL-Null:                       -11130.\n",
      "Covariance Type:            nonrobust   LLR p-value:                 9.228e-84\n",
      "==============================================================================\n",
      "                 coef    std err          z      P>|z|      [0.025      0.975]\n",
      "------------------------------------------------------------------------------\n",
      "const         -2.7567   2.36e+06  -1.17e-06      1.000   -4.62e+06    4.62e+06\n",
      "x1            -0.0131   8.33e+04  -1.57e-07      1.000   -1.63e+05    1.63e+05\n",
      "x2             0.3666        nan        nan        nan         nan         nan\n",
      "x3            -0.2137        nan        nan        nan         nan         nan\n",
      "x4             0.0360        nan        nan        nan         nan         nan\n",
      "x5            -0.0418        nan        nan        nan         nan         nan\n",
      "x6            -0.0498    2.6e+05  -1.92e-07      1.000   -5.09e+05    5.09e+05\n",
      "x7            -0.0026   2.27e+14  -1.15e-17      1.000   -4.45e+14    4.45e+14\n",
      "x8            -0.0072   5.26e+14  -1.36e-17      1.000   -1.03e+15    1.03e+15\n",
      "x9             0.0020        nan        nan        nan         nan         nan\n",
      "x10            0.0002        nan        nan        nan         nan         nan\n",
      "x11            0.0008   9.97e+13   7.71e-18      1.000   -1.95e+14    1.95e+14\n",
      "x12            0.0033        nan        nan        nan         nan         nan\n",
      "x13            0.0072   5.39e+13   1.34e-16      1.000   -1.06e+14    1.06e+14\n",
      "x14           -0.0011        nan        nan        nan         nan         nan\n",
      "x15            0.0083        nan        nan        nan         nan         nan\n",
      "x16           -0.0020        nan        nan        nan         nan         nan\n",
      "x17            0.0020   1.27e+14   1.61e-17      1.000   -2.49e+14    2.49e+14\n",
      "x18            0.0072        nan        nan        nan         nan         nan\n",
      "x19           -0.0033   3.01e+14   -1.1e-17      1.000   -5.89e+14    5.89e+14\n",
      "x20           -0.0019   1.77e+14  -1.06e-17      1.000   -3.48e+14    3.48e+14\n",
      "x21            0.0014   8.21e+13   1.74e-17      1.000   -1.61e+14    1.61e+14\n",
      "x22            0.0024        nan        nan        nan         nan         nan\n",
      "x23           -0.0049   2.07e+14  -2.38e-17      1.000   -4.06e+14    4.06e+14\n",
      "x24            0.0014        nan        nan        nan         nan         nan\n",
      "x25            0.0031         -0       -inf      0.000       0.003       0.003\n",
      "x26            0.0008        nan        nan        nan         nan         nan\n",
      "x27            0.0008   3.23e+29   2.36e-33      1.000   -6.33e+29    6.33e+29\n",
      "x28            0.0014   8.01e+13   1.78e-17      1.000   -1.57e+14    1.57e+14\n",
      "x29            0.0029        nan        nan        nan         nan         nan\n",
      "x30           -0.0017        nan        nan        nan         nan         nan\n",
      "x31           -0.0017    2.2e+28  -7.58e-32      1.000   -4.31e+28    4.31e+28\n",
      "x32            0.0002   5.47e+14   3.18e-19      1.000   -1.07e+15    1.07e+15\n",
      "x33            0.0012    2.9e+13   4.04e-17      1.000   -5.69e+13    5.69e+13\n",
      "x34            0.0007   1.01e+13   7.01e-17      1.000   -1.98e+13    1.98e+13\n",
      "x35           -0.0017        nan        nan        nan         nan         nan\n",
      "x36            0.0123        nan        nan        nan         nan         nan\n",
      "x37           -0.0016   2.83e+13  -5.62e-17      1.000   -5.54e+13    5.54e+13\n",
      "x38            0.0048        nan        nan        nan         nan         nan\n",
      "x39           -0.0002        nan        nan        nan         nan         nan\n",
      "x40           -0.0047        nan        nan        nan         nan         nan\n",
      "x41           -0.0083   2.31e+13   -3.6e-16      1.000   -4.54e+13    4.54e+13\n",
      "x42            0.0037   9.45e+12   3.94e-16      1.000   -1.85e+13    1.85e+13\n",
      "x43            0.0160   5.93e+13   2.71e-16      1.000   -1.16e+14    1.16e+14\n",
      "x44           -0.0011        nan        nan        nan         nan         nan\n",
      "x45            0.0121   6.56e+05   1.85e-08      1.000   -1.28e+06    1.28e+06\n",
      "x46           -0.0123        nan        nan        nan         nan         nan\n",
      "x47            0.0018        nan        nan        nan         nan         nan\n",
      "x48           -0.0002   2.24e+30  -7.76e-35      1.000   -4.38e+30    4.38e+30\n",
      "x49           -0.0002          0       -inf      0.000      -0.000      -0.000\n",
      "x50           -0.0065   8.76e+14  -7.39e-18      1.000   -1.72e+15    1.72e+15\n",
      "x51           -0.0047   6.91e+06  -6.84e-10      1.000   -1.35e+07    1.35e+07\n",
      "x52           -0.0019        nan        nan        nan         nan         nan\n",
      "x53            0.0014   1.31e+06   1.08e-09      1.000   -2.56e+06    2.56e+06\n",
      "x54            0.0006   6.78e+05   8.26e-10      1.000   -1.33e+06    1.33e+06\n",
      "x55           -0.0019        nan        nan        nan         nan         nan\n",
      "x56           -0.0065    8.6e+14  -7.53e-18      1.000   -1.68e+15    1.68e+15\n",
      "x57            0.0058        nan        nan        nan         nan         nan\n",
      "x58            0.0014   6.12e+06   2.29e-10      1.000    -1.2e+07     1.2e+07\n",
      "x59           -0.0011   2.74e+22     -4e-26      1.000   -5.36e+22    5.36e+22\n",
      "x60           -0.0002   1.86e+22  -9.32e-27      1.000   -3.65e+22    3.65e+22\n",
      "x61            0.0018        nan        nan        nan         nan         nan\n",
      "x62           -0.0018        nan        nan        nan         nan         nan\n",
      "x63           -0.0011   1.23e+22  -8.87e-26      1.000   -2.42e+22    2.42e+22\n",
      "x64            0.0011      0.067      0.016      0.987      -0.130       0.132\n",
      "==============================================================================\n"
     ]
    }
   ],
   "source": [
    "logit_model=sm.Logit(y_train,sm.add_constant(X_train))\n",
    "logit_model\n",
    "result=logit_model.fit()\n",
    "stats1=result.summary()\n",
    "print(stats1)"
   ]
  },
  {
   "cell_type": "code",
   "execution_count": 51,
   "metadata": {},
   "outputs": [
    {
     "name": "stdout",
     "output_type": "stream",
     "text": [
      "Score: 0.9361466089219806\n"
     ]
    }
   ],
   "source": [
    "mlflow.set_tracking_uri(\"http://192.168.68.200:8029\")\n",
    "experiment_name1 = \"oop6\"\n",
    "mlflow.set_experiment(experiment_name1)\n",
    "mlflow.statsmodels.autolog()\n",
    "with mlflow.start_run() as run:\n",
    "        score = model1.score(X_train, y_train)\n",
    "        print(f\"Score: {score}\")\n",
    "        mlflow.log_metric(\"score\", score)\n",
    "        mlflow.log_metric(\"accuracy\", accuracy)\n",
    "        predictions = model1.predict(X_train)\n",
    "        signature = infer_signature(X_train, predictions)\n",
    "        mlflow.sklearn.log_model(model1, \"model\", signature=signature)\n"
   ]
  },
  {
   "cell_type": "code",
   "execution_count": 53,
   "metadata": {},
   "outputs": [
    {
     "ename": "TypeError",
     "evalue": "search_runs() got an unexpected keyword argument 'experiment_name'",
     "output_type": "error",
     "traceback": [
      "\u001b[0;31m---------------------------------------------------------------------------\u001b[0m",
      "\u001b[0;31mTypeError\u001b[0m                                 Traceback (most recent call last)",
      "Cell \u001b[0;32mIn[53], line 5\u001b[0m\n\u001b[1;32m      1\u001b[0m \u001b[38;5;66;03m#Set the experiment name or ID where the run was logged\u001b[39;00m\n\u001b[1;32m      2\u001b[0m \n\u001b[1;32m      3\u001b[0m \n\u001b[1;32m      4\u001b[0m \u001b[38;5;66;03m# Search for the run and retrieve the logged metrics\u001b[39;00m\n\u001b[0;32m----> 5\u001b[0m runs \u001b[38;5;241m=\u001b[39m \u001b[43mmlflow\u001b[49m\u001b[38;5;241;43m.\u001b[39;49m\u001b[43msearch_runs\u001b[49m\u001b[43m(\u001b[49m\u001b[43mexperiment_name\u001b[49m\u001b[38;5;241;43m=\u001b[39;49m\u001b[43mexperiment_name1\u001b[49m\u001b[43m)\u001b[49m\n\u001b[1;32m      6\u001b[0m latest_run \u001b[38;5;241m=\u001b[39m runs\u001b[38;5;241m.\u001b[39miloc[\u001b[38;5;241m0\u001b[39m]  \u001b[38;5;66;03m# Assumes you want the latest run\u001b[39;00m\n\u001b[1;32m      7\u001b[0m accuracy_metric \u001b[38;5;241m=\u001b[39m latest_run[\u001b[38;5;124m'\u001b[39m\u001b[38;5;124maccuracy\u001b[39m\u001b[38;5;124m'\u001b[39m]\n",
      "\u001b[0;31mTypeError\u001b[0m: search_runs() got an unexpected keyword argument 'experiment_name'"
     ]
    }
   ],
   "source": [
    "#Set the experiment name or ID where the run was logged\n",
    "\n",
    "\n",
    "# Search for the run and retrieve the logged metrics\n",
    "runs = mlflow.search_runs(experiment_name=experiment_name1)\n",
    "latest_run = runs.iloc[0]  # Assumes you want the latest run\n",
    "accuracy_metric = latest_run['accuracy']\n",
    "\n",
    "print(f\"Accuracy metric: {accuracy_metric}\")"
   ]
  },
  {
   "cell_type": "markdown",
   "metadata": {},
   "source": [
    "loaded_logreg_model = mlflow.pyfunc.load_model(sklearn_path)"
   ]
  },
  {
   "cell_type": "markdown",
   "metadata": {},
   "source": [
    "loaded_logreg_model.predict(X_train)"
   ]
  },
  {
   "cell_type": "code",
   "execution_count": null,
   "metadata": {},
   "outputs": [],
   "source": [
    "import pickle\n",
    "pickle.dump(model1, open(\"logi_regre.pickle\", \"wb\"))"
   ]
  }
 ],
 "metadata": {
  "kernelspec": {
   "display_name": "a61",
   "language": "python",
   "name": "python3"
  },
  "language_info": {
   "codemirror_mode": {
    "name": "ipython",
    "version": 3
   },
   "file_extension": ".py",
   "mimetype": "text/x-python",
   "name": "python",
   "nbconvert_exporter": "python",
   "pygments_lexer": "ipython3",
   "version": "3.10.9"
  }
 },
 "nbformat": 4,
 "nbformat_minor": 2
}
